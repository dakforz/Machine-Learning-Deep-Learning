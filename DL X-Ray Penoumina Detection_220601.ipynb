{
 "cells": [
  {
   "cell_type": "markdown",
   "id": "30e8aca0",
   "metadata": {},
   "source": [
    "# Introduction "
   ]
  },
  {
   "cell_type": "markdown",
   "id": "7a29b4fd",
   "metadata": {},
   "source": [
    "**<font size=\"4\">Evaluation</font>**\n",
    "<br>\n",
    "\n",
    "In real life, physicians diagnose pneumonia through X-ray images with naked eyes. However, Deep Learning can help diagnosis and may be more accurate because Deep Learning can separate image features into tiny pieces that the naked eye could not make. In addition to hospital diagnosis, the class 1 precision should be nearly 100%, or there would be a misdiagnosis in healthy patients, resulting in unnecessary cancer treatment.\n",
    "<br>\n",
    "\n",
    "\n",
    "**<font size=\"4\">Purpose</font>**\n",
    "<br>\n",
    "\n",
    "Create a Deep Learning Convolutional Neural Network(CNN) model that can predict pneumonia with chest X-ray images based on 5856 images"
   ]
  },
  {
   "cell_type": "markdown",
   "id": "8b671626",
   "metadata": {},
   "source": [
    "# Material and Methods"
   ]
  },
  {
   "cell_type": "markdown",
   "id": "310a167e",
   "metadata": {},
   "source": [
    "**<font size=\"4\">Data</font>**\n",
    "<br>\n",
    "\n",
    "Original images came from Daniel Kermany, Kang Zhang, and Michael Goldbaum groups that published in Mendeley: https://data.mendeley.com/datasets/rscbjbr9sj/2\n",
    "This is a data processed chest X-ray images version of it made of Paul Mooney, the data is from Kaggle: https://www.kaggle.com/datasets/paultimothymooney/chest-xray-pneumonia\n",
    "<br>\n",
    "\n",
    "**<font size=\"4\">Features</font>**\n",
    "1. **Normal** (**class 0**)\n",
    "<br>\n",
    "2. **Pneumonia**  (Bacterial or Viral)(all considered as **class 1**): If needed, we can create a new CNN model that identify Bacterial or Viral Pneumonia from class 1 Pneumonia\n",
    "\n",
    "**<font size=\"4\">Modelling</font>**\n",
    "<br>\n",
    "\n",
    "Two models have been implemented: (1.) regular Convolutional Neural Networks and (2.) Convolutional Neural Networks with Data Augmentation\n"
   ]
  },
  {
   "cell_type": "markdown",
   "id": "8e1f1be2",
   "metadata": {},
   "source": [
    "## Checking GPU and GPU related Libaries Version in the Jupyter Notebook "
   ]
  },
  {
   "cell_type": "code",
   "execution_count": 1,
   "id": "0d89a2e2",
   "metadata": {},
   "outputs": [
    {
     "name": "stdout",
     "output_type": "stream",
     "text": [
      "3.9.12\n"
     ]
    }
   ],
   "source": [
    "#check python version\n",
    "from platform import python_version\n",
    "\n",
    "print(python_version())"
   ]
  },
  {
   "cell_type": "code",
   "execution_count": 2,
   "id": "e3f829a1",
   "metadata": {},
   "outputs": [
    {
     "name": "stdout",
     "output_type": "stream",
     "text": [
      "TF version: 2.9.1\n"
     ]
    }
   ],
   "source": [
    "#check tensorflow version\n",
    "import tensorflow as tf\n",
    "\n",
    "physical_devices = tf.config.list_physical_devices('GPU')\n",
    "tf.config.experimental.set_memory_growth(physical_devices[0], True)\n",
    "\n",
    "\n",
    "print(\"TF version:\", tf.__version__)"
   ]
  },
  {
   "cell_type": "code",
   "execution_count": 3,
   "id": "8a474a30",
   "metadata": {},
   "outputs": [
    {
     "name": "stdout",
     "output_type": "stream",
     "text": [
      "[name: \"/device:CPU:0\"\n",
      "device_type: \"CPU\"\n",
      "memory_limit: 268435456\n",
      "locality {\n",
      "}\n",
      "incarnation: 5024018147629071442\n",
      "xla_global_id: -1\n",
      ", name: \"/device:GPU:0\"\n",
      "device_type: \"GPU\"\n",
      "memory_limit: 3667263488\n",
      "locality {\n",
      "  bus_id: 1\n",
      "  links {\n",
      "  }\n",
      "}\n",
      "incarnation: 5411124595981015903\n",
      "physical_device_desc: \"device: 0, name: NVIDIA GeForce RTX 3060 Laptop GPU, pci bus id: 0000:01:00.0, compute capability: 8.6\"\n",
      "xla_global_id: 416903419\n",
      "]\n",
      "Num GPUs: 1\n"
     ]
    }
   ],
   "source": [
    "#check GPU avaliablity (Ps. this requires install tensorflow gpu in anaconda)\n",
    "from tensorflow.python.client import device_lib\n",
    "\n",
    "print(device_lib.list_local_devices())\n",
    "\n",
    "physical_devices = tf.config.list_physical_devices('GPU')\n",
    "print(\"Num GPUs:\", len(physical_devices))"
   ]
  },
  {
   "cell_type": "markdown",
   "id": "375e60b9",
   "metadata": {},
   "source": [
    "GPU is sucessfully read"
   ]
  },
  {
   "cell_type": "markdown",
   "id": "72dd3158",
   "metadata": {},
   "source": [
    "## Importing Libraries/Tools"
   ]
  },
  {
   "cell_type": "code",
   "execution_count": 4,
   "id": "4c33ccf0",
   "metadata": {},
   "outputs": [],
   "source": [
    "#File Handling and Manipulating Tools\n",
    "import random\n",
    "import os\n",
    "import datetime\n",
    "\n",
    "#Exploratory Data Aalysis and Graphing Tools\n",
    "import pandas as pd\n",
    "import numpy as np\n",
    "import matplotlib.pyplot as plt\n",
    "from matplotlib.pyplot import imread\n",
    "import seaborn as sns\n",
    "from IPython.display import Image\n",
    "import random\n",
    "%load_ext tensorboard\n",
    "\n",
    "#Deep Learning Tools- Tensorflow and Keras\n",
    "import tensorflow as tf\n",
    "import keras\n",
    "from keras import callbacks\n",
    "from keras.models import Sequential\n",
    "from keras.layers import InputLayer\n",
    "from tensorflow.keras.layers import Conv2D, BatchNormalization, MaxPool2D, Flatten, Dense, Dropout\n",
    "from sklearn.model_selection import train_test_split\n",
    "\n",
    "#Model Evaluation \n",
    "from sklearn import metrics\n",
    "from sklearn.metrics import accuracy_scor, confusion_matrixㄝclassification_report"
   ]
  },
  {
   "cell_type": "markdown",
   "id": "b6745d36",
   "metadata": {},
   "source": [
    "## Setting Parameters Values"
   ]
  },
  {
   "cell_type": "code",
   "execution_count": 5,
   "id": "07567e47",
   "metadata": {},
   "outputs": [],
   "source": [
    "BATCH_SIZE = 16\n",
    "IMG_SIZE = 224\n",
    "CHANNELS = 1\n",
    "INPUT_SHAPE = (IMG_SIZE, IMG_SIZE, CHANNELS)\n",
    "NUM_EPOCHS = 100 "
   ]
  },
  {
   "cell_type": "markdown",
   "id": "1fdf4982",
   "metadata": {},
   "source": [
    "BATCH_SIZE can be up to 32; however, the GPU memory for Laptop GTX 3060 is only 6GB"
   ]
  },
  {
   "cell_type": "markdown",
   "id": "f0f1accc",
   "metadata": {},
   "source": [
    "## Creating Class and Directory DataFrame for All Images"
   ]
  },
  {
   "cell_type": "code",
   "execution_count": 6,
   "id": "daee7d12",
   "metadata": {},
   "outputs": [],
   "source": [
    "train_data_dir =\"chest_xray/train/\"\n",
    "val_data_dir = \"chest_xray/val/\"\n",
    "test_data_dir = \"chest_xray/test/\""
   ]
  },
  {
   "cell_type": "code",
   "execution_count": 7,
   "id": "e868b0d8",
   "metadata": {},
   "outputs": [],
   "source": [
    "subfile = [\"NORMAL\",\"PNEUMONIA\"]\n",
    "\n",
    "def load_file(data_dir):\n",
    "    data =[]\n",
    "    for label in subfile: \n",
    "        path = os.path.join(data_dir , label)\n",
    "        for img_name in os.listdir(path):\n",
    "            if label == subfile[0]:\n",
    "                data.append((path+\"/\"+img_name, 0))\n",
    "            elif label ==subfile[1]:\n",
    "                data.append((path+\"/\"+img_name, 1))\n",
    "\n",
    "    data = pd.DataFrame(data)\n",
    "    data.columns = [\"Filename\",\"Pneumonia\"]\n",
    "    return(data)"
   ]
  },
  {
   "cell_type": "code",
   "execution_count": 8,
   "id": "e27eb39d",
   "metadata": {},
   "outputs": [
    {
     "name": "stdout",
     "output_type": "stream",
     "text": [
      "5216 16 624\n"
     ]
    }
   ],
   "source": [
    "train_data = load_file(data_dir=train_data_dir)\n",
    "val_data   = load_file(data_dir=val_data_dir)\n",
    "test_data  = load_file(data_dir=test_data_dir) \n",
    "print(len(train_data),len(val_data),len(test_data))"
   ]
  },
  {
   "cell_type": "markdown",
   "id": "9b2c755b",
   "metadata": {},
   "source": [
    "Since the train, validation and test data in the files are having not ideal data ratio (89.07%,0.27%,10.66%), this can lead to incorrect(inprecise) callbacks, so we will rearrange them to a 70%, 20% and 10% ratio"
   ]
  },
  {
   "cell_type": "markdown",
   "id": "8e1980a1",
   "metadata": {},
   "source": [
    "# Results - Visualization "
   ]
  },
  {
   "cell_type": "markdown",
   "id": "05d3db36",
   "metadata": {},
   "source": [
    "## Pie Chart for Pneumonia and Healthy X-ray Image"
   ]
  },
  {
   "cell_type": "code",
   "execution_count": 9,
   "id": "3f401472",
   "metadata": {},
   "outputs": [],
   "source": [
    "all_data = pd.concat([train_data,val_data,test_data],ignore_index=True)"
   ]
  },
  {
   "cell_type": "code",
   "execution_count": 10,
   "id": "f133514a",
   "metadata": {},
   "outputs": [
    {
     "data": {
      "image/png": "[encoded data removed]",
      "text/plain": [
       "<Figure size 360x360 with 1 Axes>"
      ]
     },
     "metadata": {},
     "output_type": "display_data"
    }
   ],
   "source": [
    "fig, ax= plt.subplots(figsize=(5,5))\n",
    "colors = sns.color_palette('pastel')\n",
    "ax.pie(data=all_data, x= all_data[\"Pneumonia\"].value_counts(),labels = [\"Pneumonia\",\"Healthy\"], colors = colors, autopct='%.1f%%');"
   ]
  },
  {
   "cell_type": "markdown",
   "id": "8ebd540f",
   "metadata": {},
   "source": [
    "# Results - Deep Learning"
   ]
  },
  {
   "cell_type": "markdown",
   "id": "7dea5692",
   "metadata": {},
   "source": [
    "## Data Preprocessing"
   ]
  },
  {
   "cell_type": "markdown",
   "id": "47b83d15",
   "metadata": {},
   "source": [
    "### Converting Pneumonia Class Labels into Boolean Labels"
   ]
  },
  {
   "cell_type": "code",
   "execution_count": 11,
   "id": "91a274aa",
   "metadata": {},
   "outputs": [],
   "source": [
    "Condition = np.array([0,1])\n",
    "labels = all_data[\"Pneumonia\"].to_numpy()\n",
    "boolean_labels = [label == Condition for label in labels]"
   ]
  },
  {
   "cell_type": "code",
   "execution_count": 12,
   "id": "e815140f",
   "metadata": {},
   "outputs": [],
   "source": [
    "X = all_data[\"Filename\"]\n",
    "y = np.array(boolean_labels)"
   ]
  },
  {
   "cell_type": "markdown",
   "id": "0e406516",
   "metadata": {},
   "source": [
    "###  Spliting Images into Train, Valid and Test Groups"
   ]
  },
  {
   "cell_type": "code",
   "execution_count": 13,
   "id": "dd905b2a",
   "metadata": {},
   "outputs": [
    {
     "name": "stdout",
     "output_type": "stream",
     "text": [
      "4110 4110 1160 1160 586 586\n"
     ]
    }
   ],
   "source": [
    "X_train, X_test, y_train, y_test = train_test_split(X, y, test_size = 0.1, random_state=5)    \n",
    "X_train, X_val, y_train, y_val = train_test_split(X_train, y_train, test_size=0.22, random_state=5) # 0.2*0.9 ~= 0.20\n",
    "print(len(X_train), len(y_train), len(X_val), len(y_val), len(X_test),  len(y_test))"
   ]
  },
  {
   "cell_type": "markdown",
   "id": "9c5b6c4a",
   "metadata": {},
   "source": [
    "The ratio of train, validation and test group is around 70%, 20% and 10%"
   ]
  },
  {
   "cell_type": "code",
   "execution_count": 14,
   "id": "4fad8cab",
   "metadata": {},
   "outputs": [
    {
     "name": "stdout",
     "output_type": "stream",
     "text": [
      "The ratio of Pneumonia images in Train data:  72.94 %\n",
      "The ratio of Pneumonia images in Valid data:  71.47 %\n",
      "The ratio of Pneumonia images in Test  data:  76.11 %\n"
     ]
    }
   ],
   "source": [
    "#Check if train, valid and test groups are having identifical class number \n",
    "unique, counts = np.unique(y_train[:,1],return_counts=True)\n",
    "print(\"The ratio of Pneumonia images in Train data: \",(counts[1]/counts.sum()*100).round(2), \"%\")\n",
    "unique, counts = np.unique(y_val[:,1],return_counts=True)\n",
    "print(\"The ratio of Pneumonia images in Valid data: \",(counts[1]/counts.sum()*100).round(2), \"%\")\n",
    "unique, counts = np.unique(y_test[:,1],return_counts=True)\n",
    "print(\"The ratio of Pneumonia images in Test  data: \",(counts[1]/counts.sum()*100).round(2), \"%\")"
   ]
  },
  {
   "cell_type": "markdown",
   "id": "acec08dc",
   "metadata": {},
   "source": [
    "The class 0 and class 1 ratio around the train, valid and test groups are identifical "
   ]
  },
  {
   "cell_type": "markdown",
   "id": "db84f149",
   "metadata": {},
   "source": [
    "### Glancing Train Data Images Randomly and Their Image Size "
   ]
  },
  {
   "cell_type": "code",
   "execution_count": 15,
   "id": "264f657d",
   "metadata": {},
   "outputs": [],
   "source": [
    "def show_9_random_images(data):\n",
    "    plt.figure(figsize=(7,5))\n",
    "    for num in range(9):\n",
    "        n = random.randint(0, len(data[\"Filename\"]))\n",
    "        ax = plt.subplot(4, 3, num+1)\n",
    "        \n",
    "        img = plt.imread(data[\"Filename\"][n])\n",
    "        plt.imshow(img)\n",
    "        \n",
    "        if data[\"Pneumonia\"][n] == 1:\n",
    "            titlname = (\"Pneumonia\", imread(train_data[\"Filename\"][n]).shape)\n",
    "        else:\n",
    "            titlname = (\"Normal\", imread(train_data[\"Filename\"][n]).shape)\n",
    "           \n",
    "            \n",
    "        plt.title(titlname)\n",
    "        plt.axis('off')\n",
    "        plt.tight_layout(pad = 0.6)"
   ]
  },
  {
   "cell_type": "code",
   "execution_count": 16,
   "id": "19c4b925",
   "metadata": {},
   "outputs": [
    {
     "data": {
      "image/png": "[encoded data removed]",
      "text/plain": [
       "<Figure size 504x360 with 9 Axes>"
      ]
     },
     "metadata": {
      "needs_background": "light"
     },
     "output_type": "display_data"
    }
   ],
   "source": [
    "show_9_random_images(train_data)"
   ]
  },
  {
   "cell_type": "markdown",
   "id": "e1d1d688",
   "metadata": {},
   "source": [
    "### Reading, Decoding, Normalizing, and Resizing Image File"
   ]
  },
  {
   "cell_type": "code",
   "execution_count": 17,
   "id": "3558f3ba",
   "metadata": {},
   "outputs": [],
   "source": [
    "def process_images(image_path):\n",
    "    image = tf.io.read_file(image_path)\n",
    "    image = tf.image.decode_jpeg(image, channels=CHANNELS)\n",
    "    image = tf.image.convert_image_dtype(image, tf.float32)\n",
    "    image = tf.image.resize(image, size=[IMG_SIZE, IMG_SIZE])\n",
    "    return image"
   ]
  },
  {
   "cell_type": "code",
   "execution_count": 18,
   "id": "cedcf7f8",
   "metadata": {},
   "outputs": [],
   "source": [
    "def image_label(image_path, label):\n",
    "    image = process_images(image_path)\n",
    "    return image, label"
   ]
  },
  {
   "cell_type": "markdown",
   "id": "9f7f1c04",
   "metadata": {},
   "source": [
    "###  Creating Data Batches"
   ]
  },
  {
   "cell_type": "code",
   "execution_count": 19,
   "id": "9823b366",
   "metadata": {},
   "outputs": [],
   "source": [
    "def create_batch(X, y=None, batch_size= BATCH_SIZE, valid_data=False, test_data=False):\n",
    "    if test_data:\n",
    "        data = tf.data.Dataset.from_tensor_slices((tf.constant(X)))\n",
    "        data_batch = data.map(process_images).batch(BATCH_SIZE)\n",
    "        return data_batch\n",
    "\n",
    "    elif valid_data:\n",
    "        data = tf.data.Dataset.from_tensor_slices((tf.constant(X),\n",
    "                                               tf.constant(y))) \n",
    "        data_batch = data.map(image_label).batch(BATCH_SIZE)\n",
    "        return data_batch\n",
    "\n",
    "    else:\n",
    "\n",
    "        data = tf.data.Dataset.from_tensor_slices((tf.constant(X),\n",
    "                                               tf.constant(y))) \n",
    "        data = data.shuffle(buffer_size = len(X)) \n",
    "        data_batch = data.map(image_label).batch(BATCH_SIZE)\n",
    "        return data_batch"
   ]
  },
  {
   "cell_type": "code",
   "execution_count": 20,
   "id": "8f9797e8",
   "metadata": {},
   "outputs": [
    {
     "data": {
      "text/plain": [
       "(TensorSpec(shape=(None, 224, 224, 1), dtype=tf.float32, name=None),\n",
       " TensorSpec(shape=(None, 2), dtype=tf.bool, name=None))"
      ]
     },
     "execution_count": 20,
     "metadata": {},
     "output_type": "execute_result"
    }
   ],
   "source": [
    "tensor_train_data = create_batch(X_train, y_train)\n",
    "tensor_val_data = create_batch(X_val, y_val, valid_data=True)\n",
    "tensor_test_data = create_batch(X_test, y_test, test_data=True)\n",
    "tensor_train_data.element_spec"
   ]
  },
  {
   "cell_type": "markdown",
   "id": "b3731efd",
   "metadata": {},
   "source": [
    "### Building CNN Model Layers"
   ]
  },
  {
   "cell_type": "markdown",
   "id": "d9ae90b8",
   "metadata": {},
   "source": [
    "1. The `MaxPool` is not utilized, but the Conv2D layer will have higher `strides = 2` (default = 1). As a reason, the article (https://arxiv.org/abs/1412.6806) has suggested to remove the `MaxPool` and to increase the `strides` size can be a good way to downsampling the spatial dimensions of the volume\n",
    "\n",
    "2.`kernel_initializer = \"he_uniform\"` is optimized for `activation=\"relu\"`"
   ]
  },
  {
   "cell_type": "code",
   "execution_count": 21,
   "id": "016d35f4",
   "metadata": {},
   "outputs": [],
   "source": [
    "def create_model(input_shape = INPUT_SHAPE):\n",
    "    \n",
    "    model = keras.Sequential()\n",
    "    model.add(InputLayer(INPUT_SHAPE))\n",
    "    model.add(Conv2D(32,(3,3), activation=\"relu\", padding=\"same\",strides = 2, kernel_initializer = \"he_uniform\"))\n",
    "    model.add(BatchNormalization())\n",
    "    model.add(Conv2D(64,(3,3), activation=\"relu\", padding=\"same\",strides = 2, kernel_initializer = \"he_uniform\"))\n",
    "    model.add(Dropout(rate=0.1))\n",
    "    model.add(BatchNormalization())\n",
    "    model.add(Conv2D(128,(3,3), activation=\"relu\", padding=\"same\",strides = 2, kernel_initializer = \"he_uniform\"))\n",
    "    model.add(Dropout(rate=0.2))\n",
    "    model.add(BatchNormalization())\n",
    "    model.add(Conv2D(256,(3,3), activation=\"relu\", padding=\"same\",strides = 2, kernel_initializer = \"he_uniform\"))\n",
    "    model.add(Dropout(rate=0.2))\n",
    "    model.add(BatchNormalization())\n",
    "    \n",
    "   \n",
    "    model.add(Flatten())\n",
    "    \n",
    "    model.add(Dense(128, activation='relu', kernel_initializer = \"he_uniform\"))\n",
    "    model.add(BatchNormalization())\n",
    "    model.add(Dropout(rate=0.5))\n",
    "    model.add(Dense(64, activation='relu', kernel_initializer = \"he_uniform\"))\n",
    "    model.add(BatchNormalization())\n",
    "    model.add(Dropout(rate=0.5))\n",
    "    model.add(Dense(2, activation=\"sigmoid\"))\n",
    "\n",
    "    model.compile(\n",
    "       loss=tf.keras.losses.BinaryCrossentropy(),\n",
    "       optimizer=tf.keras.optimizers.Adam(),\n",
    "       metrics=[\"accuracy\"]\n",
    "    )\n",
    "    \n",
    "    return model"
   ]
  },
  {
   "cell_type": "code",
   "execution_count": 22,
   "id": "74db480d",
   "metadata": {},
   "outputs": [
    {
     "name": "stdout",
     "output_type": "stream",
     "text": [
      "Model: \"sequential\"\n",
      "_________________________________________________________________\n",
      " Layer (type)                Output Shape              Param #   \n",
      "=================================================================\n",
      " conv2d (Conv2D)             (None, 112, 112, 32)      320       \n",
      "                                                                 \n",
      " batch_normalization (BatchN  (None, 112, 112, 32)     128       \n",
      " ormalization)                                                   \n",
      "                                                                 \n",
      " conv2d_1 (Conv2D)           (None, 56, 56, 64)        18496     \n",
      "                                                                 \n",
      " dropout (Dropout)           (None, 56, 56, 64)        0         \n",
      "                                                                 \n",
      " batch_normalization_1 (Batc  (None, 56, 56, 64)       256       \n",
      " hNormalization)                                                 \n",
      "                                                                 \n",
      " conv2d_2 (Conv2D)           (None, 28, 28, 128)       73856     \n",
      "                                                                 \n",
      " dropout_1 (Dropout)         (None, 28, 28, 128)       0         \n",
      "                                                                 \n",
      " batch_normalization_2 (Batc  (None, 28, 28, 128)      512       \n",
      " hNormalization)                                                 \n",
      "                                                                 \n",
      " conv2d_3 (Conv2D)           (None, 14, 14, 256)       295168    \n",
      "                                                                 \n",
      " dropout_2 (Dropout)         (None, 14, 14, 256)       0         \n",
      "                                                                 \n",
      " batch_normalization_3 (Batc  (None, 14, 14, 256)      1024      \n",
      " hNormalization)                                                 \n",
      "                                                                 \n",
      " flatten (Flatten)           (None, 50176)             0         \n",
      "                                                                 \n",
      " dense (Dense)               (None, 128)               6422656   \n",
      "                                                                 \n",
      " batch_normalization_4 (Batc  (None, 128)              512       \n",
      " hNormalization)                                                 \n",
      "                                                                 \n",
      " dropout_3 (Dropout)         (None, 128)               0         \n",
      "                                                                 \n",
      " dense_1 (Dense)             (None, 64)                8256      \n",
      "                                                                 \n",
      " batch_normalization_5 (Batc  (None, 64)               256       \n",
      " hNormalization)                                                 \n",
      "                                                                 \n",
      " dropout_4 (Dropout)         (None, 64)                0         \n",
      "                                                                 \n",
      " dense_2 (Dense)             (None, 2)                 130       \n",
      "                                                                 \n",
      "=================================================================\n",
      "Total params: 6,821,570\n",
      "Trainable params: 6,820,226\n",
      "Non-trainable params: 1,344\n",
      "_________________________________________________________________\n"
     ]
    }
   ],
   "source": [
    "model = create_model()\n",
    "model.summary()"
   ]
  },
  {
   "cell_type": "markdown",
   "id": "e6338071",
   "metadata": {},
   "source": [
    "### Callback Function"
   ]
  },
  {
   "cell_type": "code",
   "execution_count": 23,
   "id": "178b9614",
   "metadata": {},
   "outputs": [],
   "source": [
    "early_stopping = tf.keras.callbacks.EarlyStopping(monitor = \"val_accuracy\", patience=5, restore_best_weights=True)\n",
    "\n",
    "def create_tensorboard_callback():\n",
    "  logdir = os.path.join(r\"C:\\Users\\dakfo\\MLProject\\sample_project_1\\x-ray-logs\",\n",
    "                        #getting a log file to track the history everytime\n",
    "                        datetime.datetime.now().strftime(\"%Y%m%d-%H%M%S\"))\n",
    "  return tf.keras.callbacks.TensorBoard(logdir)"
   ]
  },
  {
   "cell_type": "markdown",
   "id": "4a022c94",
   "metadata": {},
   "source": [
    "## Trainng CNN Model - Part 1"
   ]
  },
  {
   "cell_type": "code",
   "execution_count": 24,
   "id": "0a946754",
   "metadata": {},
   "outputs": [],
   "source": [
    "def train_model():\n",
    "\n",
    "  #create model\n",
    "  model = create_model()\n",
    "\n",
    "  #create new tensorboard session everythime \n",
    "  tensorboard = create_tensorboard_callback()\n",
    "\n",
    "   #fit the model and store the learning curve to the history too\n",
    "  history = model.fit(x= tensor_train_data,\n",
    "            epochs= NUM_EPOCHS,\n",
    "            validation_data = tensor_val_data,\n",
    "            validation_freq=1,\n",
    "            callbacks=[tensorboard, early_stopping])\n",
    "  \n",
    "  return model, history"
   ]
  },
  {
   "cell_type": "code",
   "execution_count": 25,
   "id": "16bd6f99",
   "metadata": {},
   "outputs": [
    {
     "name": "stdout",
     "output_type": "stream",
     "text": [
      "Epoch 1/100\n",
      "257/257 [==============================] - 37s 89ms/step - loss: 0.3643 - accuracy: 0.8796 - val_loss: 0.4804 - val_accuracy: 0.7888\n",
      "Epoch 2/100\n",
      "257/257 [==============================] - 20s 76ms/step - loss: 0.2300 - accuracy: 0.9238 - val_loss: 2.7808 - val_accuracy: 0.5328\n",
      "Epoch 3/100\n",
      "257/257 [==============================] - 19s 74ms/step - loss: 0.1785 - accuracy: 0.9387 - val_loss: 0.3501 - val_accuracy: 0.8819\n",
      "Epoch 4/100\n",
      "257/257 [==============================] - 19s 73ms/step - loss: 0.1683 - accuracy: 0.9438 - val_loss: 0.1579 - val_accuracy: 0.9431\n",
      "Epoch 5/100\n",
      "257/257 [==============================] - 19s 74ms/step - loss: 0.1501 - accuracy: 0.9487 - val_loss: 0.3134 - val_accuracy: 0.9112\n",
      "Epoch 6/100\n",
      "257/257 [==============================] - 19s 73ms/step - loss: 0.1436 - accuracy: 0.9516 - val_loss: 0.1571 - val_accuracy: 0.9431\n",
      "Epoch 7/100\n",
      "257/257 [==============================] - 19s 73ms/step - loss: 0.1116 - accuracy: 0.9618 - val_loss: 0.1588 - val_accuracy: 0.9405\n",
      "Epoch 8/100\n",
      "257/257 [==============================] - 19s 73ms/step - loss: 0.0911 - accuracy: 0.9727 - val_loss: 0.1329 - val_accuracy: 0.9578\n",
      "Epoch 9/100\n",
      "257/257 [==============================] - 19s 73ms/step - loss: 0.1432 - accuracy: 0.9472 - val_loss: 0.1332 - val_accuracy: 0.9517\n",
      "Epoch 10/100\n",
      "257/257 [==============================] - 19s 73ms/step - loss: 0.1130 - accuracy: 0.9606 - val_loss: 0.1080 - val_accuracy: 0.9647\n",
      "Epoch 11/100\n",
      "257/257 [==============================] - 19s 73ms/step - loss: 0.0803 - accuracy: 0.9740 - val_loss: 0.1173 - val_accuracy: 0.9560\n",
      "Epoch 12/100\n",
      "257/257 [==============================] - 19s 74ms/step - loss: 0.0772 - accuracy: 0.9723 - val_loss: 0.2801 - val_accuracy: 0.8888\n",
      "Epoch 13/100\n",
      "257/257 [==============================] - 19s 72ms/step - loss: 0.0703 - accuracy: 0.9745 - val_loss: 0.1376 - val_accuracy: 0.9526\n",
      "Epoch 14/100\n",
      "257/257 [==============================] - 19s 72ms/step - loss: 0.0593 - accuracy: 0.9798 - val_loss: 0.2663 - val_accuracy: 0.9103\n",
      "Epoch 15/100\n",
      "257/257 [==============================] - 19s 72ms/step - loss: 0.0564 - accuracy: 0.9808 - val_loss: 0.1674 - val_accuracy: 0.9491\n"
     ]
    }
   ],
   "source": [
    "model, history = train_model() "
   ]
  },
  {
   "cell_type": "code",
   "execution_count": 26,
   "id": "57c599f1",
   "metadata": {},
   "outputs": [
    {
     "name": "stdout",
     "output_type": "stream",
     "text": [
      "73/73 [==============================] - 4s 56ms/step - loss: 0.1080 - accuracy: 0.9647\n",
      "the test loss of the test data is: 0.10795891284942627\n",
      "the accuracy score of the test data is: 0.9646551609039307\n"
     ]
    }
   ],
   "source": [
    "val_loss, val_score = model.evaluate(tensor_val_data)\n",
    "print(f\"the test loss of the test data is: {val_loss}\")\n",
    "print(f\"the accuracy score of the test data is: {val_score}\")"
   ]
  },
  {
   "cell_type": "markdown",
   "id": "59615e64",
   "metadata": {},
   "source": [
    "### M1:Predicting Test Group"
   ]
  },
  {
   "cell_type": "code",
   "execution_count": 50,
   "id": "74b8194e",
   "metadata": {},
   "outputs": [
    {
     "name": "stdout",
     "output_type": "stream",
     "text": [
      "37/37 [==============================] - 2s 55ms/step\n"
     ]
    }
   ],
   "source": [
    "preds = model.predict(tensor_test_data)\n",
    "preds = np.argmax(preds, axis=-1)"
   ]
  },
  {
   "cell_type": "code",
   "execution_count": 28,
   "id": "cf657fdd",
   "metadata": {},
   "outputs": [],
   "source": [
    "test_y = [n.astype(int) for n in y_test]\n",
    "test_y = np.argmax(test_y, axis=-1)"
   ]
  },
  {
   "cell_type": "markdown",
   "id": "d81389de",
   "metadata": {},
   "source": [
    "### M1:Test Results "
   ]
  },
  {
   "cell_type": "markdown",
   "id": "ba6cd26c",
   "metadata": {},
   "source": [
    "#### M1:Confusion Matrix"
   ]
  },
  {
   "cell_type": "code",
   "execution_count": 29,
   "id": "4bec073a",
   "metadata": {},
   "outputs": [
    {
     "data": {
      "image/png": "[encoded data removed]",
      "text/plain": [
       "<Figure size 504x360 with 2 Axes>"
      ]
     },
     "metadata": {
      "needs_background": "light"
     },
     "output_type": "display_data"
    }
   ],
   "source": [
    "cm  = confusion_matrix(test_y, preds)\n",
    "plt.figure(figsize=(7,5))\n",
    "\n",
    "ax = sns.heatmap(cm, annot = True, cmap='Blues',fmt='.3g')\n",
    "\n",
    "ax.set_xlabel('\\nPredicted Values')\n",
    "ax.set_ylabel('Actual Values ');\n",
    "\n",
    "ax.xaxis.set_ticklabels(['Healthy','Pneumonia'])\n",
    "ax.yaxis.set_ticklabels(['Healthy','Pneumonia'])\n",
    "\n",
    "plt.show()"
   ]
  },
  {
   "cell_type": "markdown",
   "id": "43cba98b",
   "metadata": {},
   "source": [
    "#### M1:Accuracy and Classification Report "
   ]
  },
  {
   "cell_type": "code",
   "execution_count": 30,
   "id": "7a2ce5d8",
   "metadata": {},
   "outputs": [
    {
     "name": "stdout",
     "output_type": "stream",
     "text": [
      "              precision    recall  f1-score   support\n",
      "\n",
      "           0       0.89      0.89      0.89       140\n",
      "           1       0.96      0.96      0.96       446\n",
      "\n",
      "    accuracy                           0.95       586\n",
      "   macro avg       0.92      0.92      0.92       586\n",
      "weighted avg       0.95      0.95      0.95       586\n",
      "\n",
      "Accuracy of the Model: 94.53924914675767 %\n"
     ]
    }
   ],
   "source": [
    "print(classification_report(test_y, preds))\n",
    "print(\"Accuracy of the Model:\",accuracy_score(test_y, preds)*100,\"%\")"
   ]
  },
  {
   "cell_type": "markdown",
   "id": "4fc006c7",
   "metadata": {},
   "source": [
    "#### M1:Learninig Curve"
   ]
  },
  {
   "cell_type": "code",
   "execution_count": 31,
   "id": "e0c99898",
   "metadata": {},
   "outputs": [
    {
     "data": {
      "image/png": "[encoded data removed]",
      "text/plain": [
       "<Figure size 576x360 with 1 Axes>"
      ]
     },
     "metadata": {
      "needs_background": "light"
     },
     "output_type": "display_data"
    }
   ],
   "source": [
    "pd.DataFrame(history.history).plot(figsize =(8,5))\n",
    "plt.grid(True)\n",
    "plt.gca().set_ylim(0,1)\n",
    "plt.show()"
   ]
  },
  {
   "cell_type": "markdown",
   "id": "6bbee2f4",
   "metadata": {},
   "source": [
    "## Trainng CNN Model - Part 2"
   ]
  },
  {
   "cell_type": "markdown",
   "id": "b49b5a13",
   "metadata": {},
   "source": [
    "### Data Augmentation"
   ]
  },
  {
   "cell_type": "markdown",
   "id": "1c1d02ec",
   "metadata": {},
   "source": [
    "Some common data augmentation can be retrieved from: \n",
    "https://www.tensorflow.org/api_docs/python/tf/keras/layers"
   ]
  },
  {
   "cell_type": "code",
   "execution_count": 32,
   "id": "98bf63f1",
   "metadata": {},
   "outputs": [],
   "source": [
    "data_augmentation = tf.keras.Sequential([\n",
    "    \n",
    "  tf.keras.layers.RandomRotation(0.2),\n",
    "  tf.keras.layers.RandomZoom(height_factor=(-0.2, 0.2),width_factor=(-0.2, 0.2)),  #postive = zoomed out; negative = zoomed out 0.1=10%\n",
    "  tf.keras.layers.RandomHeight(factor=(-0.1, 0.1)),\n",
    "  tf.keras.layers.RandomWidth(factor=(-0.1, 0.1)),\n",
    "  tf.keras.layers.RandomBrightness(factor=(-0.2, 0.2)),\n",
    "  tf.keras.layers.RandomRotation(factor=(-0.2, 0.2))\n",
    "  ]\n",
    ")"
   ]
  },
  {
   "cell_type": "markdown",
   "id": "a5b152b8",
   "metadata": {},
   "source": [
    "####  Creating Data Batches Version 2 (Data Augmentation)"
   ]
  },
  {
   "cell_type": "markdown",
   "id": "fa897de6",
   "metadata": {},
   "source": [
    "**Data Augmentation** only affect create_batch function \n",
    "<br>\n",
    "Data augemntation can also resize/normatlize the images, but to elminate any confusion, this function is not been implemented "
   ]
  },
  {
   "cell_type": "code",
   "execution_count": 33,
   "id": "39f0491e",
   "metadata": {},
   "outputs": [],
   "source": [
    "def create_batch_2(X, y=None, batch_size= BATCH_SIZE, valid_data=False, test_data=False):\n",
    "    if test_data:\n",
    "        data = tf.data.Dataset.from_tensor_slices((tf.constant(X)))\n",
    "        data_batch = data.map(process_images).batch(BATCH_SIZE)\n",
    "        return data_batch\n",
    "\n",
    "    elif valid_data:\n",
    "        data = tf.data.Dataset.from_tensor_slices((tf.constant(X),\n",
    "                                               tf.constant(y))) \n",
    "        data_batch = data.map(image_label).batch(BATCH_SIZE)\n",
    "        return data_batch\n",
    "\n",
    "    else:\n",
    "\n",
    "        data = tf.data.Dataset.from_tensor_slices((tf.constant(X),\n",
    "                                               tf.constant(y))) \n",
    "        data = data.shuffle(buffer_size = len(X)) \n",
    "        data_batch = data.map(image_label).map(lambda X, y: (data_augmentation(X), y)).batch(BATCH_SIZE) #only train data is having data augmentation\n",
    "        return data_batch"
   ]
  },
  {
   "cell_type": "code",
   "execution_count": 34,
   "id": "43124344",
   "metadata": {},
   "outputs": [
    {
     "data": {
      "text/plain": [
       "(TensorSpec(shape=(None, 224, 224, 1), dtype=tf.float32, name=None),\n",
       " TensorSpec(shape=(None, 2), dtype=tf.bool, name=None))"
      ]
     },
     "execution_count": 34,
     "metadata": {},
     "output_type": "execute_result"
    }
   ],
   "source": [
    "tensor_train_data_2 = create_batch_2(X_train, y_train) \n",
    "tensor_val_data_2 = create_batch_2(X_val, y_val, valid_data=True) #tensor_valid_data = tensor_valid_data_2 \n",
    "tensor_test_data_2 = create_batch_2(X_test, y_test, test_data=True)#tensor_test_data = tensor_test_data_2 \n",
    "tensor_train_data_2.element_spec"
   ]
  },
  {
   "cell_type": "code",
   "execution_count": 35,
   "id": "faf508bc",
   "metadata": {},
   "outputs": [
    {
     "name": "stdout",
     "output_type": "stream",
     "text": [
      "Epoch 1/100\n",
      "257/257 [==============================] - 20s 73ms/step - loss: 0.3601 - accuracy: 0.8832 - val_loss: 0.2238 - val_accuracy: 0.9259\n",
      "Epoch 2/100\n",
      "257/257 [==============================] - 19s 73ms/step - loss: 0.2310 - accuracy: 0.9236 - val_loss: 0.1984 - val_accuracy: 0.9164\n",
      "Epoch 3/100\n",
      "257/257 [==============================] - 19s 73ms/step - loss: 0.1878 - accuracy: 0.9360 - val_loss: 0.5137 - val_accuracy: 0.8009\n",
      "Epoch 4/100\n",
      "257/257 [==============================] - 19s 73ms/step - loss: 0.1462 - accuracy: 0.9472 - val_loss: 0.1612 - val_accuracy: 0.9448\n",
      "Epoch 5/100\n",
      "257/257 [==============================] - 19s 73ms/step - loss: 0.1357 - accuracy: 0.9518 - val_loss: 0.1154 - val_accuracy: 0.9543\n",
      "Epoch 6/100\n",
      "257/257 [==============================] - 19s 73ms/step - loss: 0.1485 - accuracy: 0.9482 - val_loss: 0.2798 - val_accuracy: 0.8966\n",
      "Epoch 7/100\n",
      "257/257 [==============================] - 19s 73ms/step - loss: 0.1583 - accuracy: 0.9455 - val_loss: 0.1421 - val_accuracy: 0.9509\n",
      "Epoch 8/100\n",
      "257/257 [==============================] - 19s 75ms/step - loss: 0.1264 - accuracy: 0.9586 - val_loss: 0.1381 - val_accuracy: 0.9474\n",
      "Epoch 9/100\n",
      "257/257 [==============================] - 19s 74ms/step - loss: 0.1088 - accuracy: 0.9623 - val_loss: 0.1666 - val_accuracy: 0.9431\n",
      "Epoch 10/100\n",
      "257/257 [==============================] - 19s 75ms/step - loss: 0.1004 - accuracy: 0.9669 - val_loss: 0.1673 - val_accuracy: 0.9509\n"
     ]
    }
   ],
   "source": [
    "model_2, history_2 = train_model() "
   ]
  },
  {
   "cell_type": "code",
   "execution_count": 36,
   "id": "ce153ecb",
   "metadata": {},
   "outputs": [
    {
     "name": "stdout",
     "output_type": "stream",
     "text": [
      "73/73 [==============================] - 4s 56ms/step - loss: 0.1154 - accuracy: 0.9543\n",
      "the test loss of the test data is: 0.11535364389419556\n",
      "the accuracy score of the test data is: 0.9543103575706482\n"
     ]
    }
   ],
   "source": [
    "val_loss, val_score = model_2.evaluate(tensor_val_data)\n",
    "print(f\"the test loss of the test data is: {val_loss}\")\n",
    "print(f\"the accuracy score of the test data is: {val_score}\")"
   ]
  },
  {
   "cell_type": "markdown",
   "id": "3d7a76f9",
   "metadata": {},
   "source": [
    "### M2:Predicting Test Group"
   ]
  },
  {
   "cell_type": "code",
   "execution_count": 51,
   "id": "3128f07f",
   "metadata": {},
   "outputs": [
    {
     "name": "stdout",
     "output_type": "stream",
     "text": [
      "37/37 [==============================] - 2s 56ms/step\n"
     ]
    }
   ],
   "source": [
    "preds_2 = model_2.predict(tensor_test_data_2)\n",
    "preds_2 = np.argmax(preds_2, axis=-1)"
   ]
  },
  {
   "cell_type": "markdown",
   "id": "17c2ce3b",
   "metadata": {},
   "source": [
    "### M2:Test Results "
   ]
  },
  {
   "cell_type": "markdown",
   "id": "f0bfe338",
   "metadata": {},
   "source": [
    "#### M2:Confusion Matrix "
   ]
  },
  {
   "cell_type": "code",
   "execution_count": 52,
   "id": "d0664c4e",
   "metadata": {},
   "outputs": [
    {
     "data": {
      "image/png": "[encoded data removed]",
      "text/plain": [
       "<Figure size 504x360 with 2 Axes>"
      ]
     },
     "metadata": {
      "needs_background": "light"
     },
     "output_type": "display_data"
    }
   ],
   "source": [
    "cm  = confusion_matrix(test_y, preds_2)\n",
    "plt.figure(figsize=(7,5))\n",
    "\n",
    "ax = sns.heatmap(cm, annot = True, cmap='Blues',fmt='.3g')\n",
    "\n",
    "ax.set_xlabel('\\nPredicted Values')\n",
    "ax.set_ylabel('Actual Values ');\n",
    "\n",
    "ax.xaxis.set_ticklabels(['Healthy','Pneumonia'])\n",
    "ax.yaxis.set_ticklabels(['Healthy','Pneumonia'])\n",
    "\n",
    "plt.show()"
   ]
  },
  {
   "cell_type": "markdown",
   "id": "c8869656",
   "metadata": {},
   "source": [
    "#### M2:Accuracy and Classification Report "
   ]
  },
  {
   "cell_type": "code",
   "execution_count": 55,
   "id": "24864da9",
   "metadata": {},
   "outputs": [
    {
     "name": "stdout",
     "output_type": "stream",
     "text": [
      "              precision    recall  f1-score   support\n",
      "\n",
      "           0       0.91      0.84      0.87       140\n",
      "           1       0.95      0.98      0.96       446\n",
      "\n",
      "    accuracy                           0.94       586\n",
      "   macro avg       0.93      0.91      0.92       586\n",
      "weighted avg       0.94      0.94      0.94       586\n",
      "\n",
      "Accuracy of the Model: 94.19795221843003 %\n"
     ]
    }
   ],
   "source": [
    "print(classification_report(test_y, preds_2))\n",
    "print(\"Accuracy of the Model:\",accuracy_score(test_y, preds_2)*100,\"%\")"
   ]
  },
  {
   "cell_type": "markdown",
   "id": "c5c149bd",
   "metadata": {},
   "source": [
    "#### M2: Learninig Curve"
   ]
  },
  {
   "cell_type": "code",
   "execution_count": 54,
   "id": "89af0b2c",
   "metadata": {},
   "outputs": [
    {
     "data": {
      "image/png": "[encoded data removed]",
      "text/plain": [
       "<Figure size 576x360 with 1 Axes>"
      ]
     },
     "metadata": {
      "needs_background": "light"
     },
     "output_type": "display_data"
    }
   ],
   "source": [
    "pd.DataFrame(history_2.history).plot(figsize =(8,5))\n",
    "plt.grid(True)\n",
    "plt.gca().set_ylim(0,1)\n",
    "plt.show()"
   ]
  },
  {
   "cell_type": "markdown",
   "id": "35b4f394",
   "metadata": {},
   "source": [
    "**<font size=\"4\">In Two CNNs training ((Model 1) one without data augmentation and (Model 2) one with data augmentation)</font>**\n",
    "\n",
    "**<font size=\"3\">Statistics:</font>**\n",
    "<br>\n",
    "\n",
    "With both models on **1000 patients** prediction (class 0:class 1 = 21.8%:78.2%):\n",
    "\n",
    "1. **94%** of patients can predict into correct class \n",
    "2. **Class 1 recall is 96+%**, less likely to uncover Pneumonia patients\n",
    "* Model 2 got better class 1 recall (98%)\n",
    "3. **The class 0 recall is 85+%**, this model is less effective on predicting class 0 results \n",
    "* Model 1 got better class 2 recall (89%)\n",
    "<br>\n",
    "\n",
    "**<font size=\"3\">Train Loss and Validation Loss:</font>**\n",
    "1. In both models, the Train Loss and Validation Loss both reduced throughout the time. However, it can still have a bump in the middle stage that overfit the training dataset\n",
    "2. Both models seem training accuracy is higher than validation accuracy in each epoch; however, model 1 is more obvious(overfitting); **model 2 regularizes better**.\n"
   ]
  },
  {
   "cell_type": "markdown",
   "id": "6c6d60eb",
   "metadata": {},
   "source": [
    "# Conclusion "
   ]
  },
  {
   "cell_type": "markdown",
   "id": "5d1912af",
   "metadata": {},
   "source": [
    "**<font size=\"3\">Overall:</font>**\n",
    "1. **two models shared the same pattern**\n",
    "2. Two models both can screen out **96% of real Pneumonia patients will be predicted as Pneumonia candidates**\n",
    "3. The models predicted **candidates** for Pneumonia patients with **5% chance chance to be no Pneumonia**\n",
    "4. The loss function can all be improved. They all have bumps with both models "
   ]
  },
  {
   "cell_type": "markdown",
   "id": "65a747f2",
   "metadata": {},
   "source": [
    "# Discussion"
   ]
  },
  {
   "cell_type": "markdown",
   "id": "8fc67c50",
   "metadata": {},
   "source": [
    "**<font size=\"4\">Reason:</font>**\n",
    "1. There is more Pneumonia dataset (73%:27%), so they tend to predict better on the class 1 dataset\n",
    "2. There are no sufficient datasets 4110, 1160 and 586 images on the train, validation and test groups, so the value in the classification report can only show a general idea.\n",
    "<br>\n",
    "\n",
    "**<font size=\"4\">Interpretation:</font>**\n",
    "<br>\n",
    "\n",
    "If these two models are being utilized for diagnosis, we should **choose model 2 over model 1**. They shared similar accuracy, but X-ray images can be biased to the model of X-ray machine or operators, and model 2 regularize better because it is trained based on data augmentation. This means model 2 can predict better even if the X-ray images show slightly brighter, darker, and even some X-ray image shifting happened. \n",
    "<br>\n",
    "\n",
    "\n",
    "**<font size=\"4\">To Improve the CNN Models Inference:</font>**\n",
    "\n",
    "**<font size=\"3\">Improve Both Models:</font>** \n",
    "\n",
    "1. **Increase the data size**. Since we combine the default train, validation and test datasets, even it may have a better callback function and better classification reports. It tradeoff some training data (model trains fewer images). Increasing the dataset to train can reduce the loss and avoid bumping.\n",
    "2. **Increasing the CNNs models' complexity** can also make the loss function have fewer bumps; however, data size should increase first\n",
    "3. If the dataset is increased, **trying \"elu\" activation, \"increasing dropout rate\", and \"more data augmentation parameters\"** can all help with regularizing the models since the model has a bit of overfitting. Although the current model 2 has less overfitting than model 1, it still does not reach the optimal value(the training group has 1% higher accuracy). \n",
    "4. **Label the pneumonia groups with their seriousness (level 1 to level 4)**, so the model can weigh the image's features better\n",
    "<br>\n",
    "\n",
    "Even the current model predicts class 1 better, but we may not need to balance the class 0 and class 1 data. For diagnosis purposes, physicians should always double-check \"class 1\" prediction to prevent any misdiagnosis of healthy patients(Those pneumonia patients assumed as healthy patients still have a chance to be diagnosed by their symptoms and further diagnosis schedule in their life). Those patients being predicted as class 1 may also have presented some signals(considered as the developing or initial stage) to develop pneumonia. It can be a kind of precaution for them. "
   ]
  },
  {
   "cell_type": "code",
   "execution_count": null,
   "id": "36b68512",
   "metadata": {},
   "outputs": [],
   "source": []
  }
 ],
 "metadata": {
  "kernelspec": {
   "display_name": "Python 3 (ipykernel)",
   "language": "python",
   "name": "python3"
  },
  "language_info": {
   "codemirror_mode": {
    "name": "ipython",
    "version": 3
   },
   "file_extension": ".py",
   "mimetype": "text/x-python",
   "name": "python",
   "nbconvert_exporter": "python",
   "pygments_lexer": "ipython3",
   "version": "3.9.12"
  },
  "toc": {
   "base_numbering": 1,
   "nav_menu": {},
   "number_sections": true,
   "sideBar": true,
   "skip_h1_title": false,
   "title_cell": "Table of Contents",
   "title_sidebar": "Contents",
   "toc_cell": false,
   "toc_position": {
    "height": "555.758px",
    "left": "88px",
    "top": "111.099px",
    "width": "305.009px"
   },
   "toc_section_display": true,
   "toc_window_display": true
  }
 },
 "nbformat": 4,
 "nbformat_minor": 5
}
